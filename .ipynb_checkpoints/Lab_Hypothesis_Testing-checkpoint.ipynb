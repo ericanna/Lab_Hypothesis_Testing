{
 "cells": [
  {
   "cell_type": "markdown",
   "id": "5d1337bb",
   "metadata": {},
   "source": [
    "# Lab | Hypothesis Testing\n",
    "\n",
    "#### Instructions:\n",
    "\n",
    "It is assumed that the mean systolic blood pressure is μ = 120 mm Hg. In the Honolulu Heart Study, a sample of n = 100 people had an average systolic blood pressure of 130.1 mm Hg with a standard deviation of 21.21 mm Hg. Is the group significantly different (with respect to systolic blood pressure!) from the regular population?\n",
    "\n",
    "- Set up the hypothesis test."
   ]
  },
  {
   "cell_type": "code",
   "execution_count": 1,
   "id": "ace5bf3b",
   "metadata": {},
   "outputs": [],
   "source": [
    "# What's the probability that the mean of the sample, stated by the Honolulu Heart Study (130.1 mm/Hg),\n",
    "# comes from a population with average blood pressure of 120 mm/Hg?\n",
    "\n",
    "# The Null hypothesis (H0) here is: mean_blood_pressure(population) = 120 mm/Hg.\n",
    "# The Alternative hypothesis (HA) is: mean_blood_pressure(sample) != 120 mm/Hg.\n",
    "# We have a two tailed test."
   ]
  },
  {
   "cell_type": "markdown",
   "id": "0e2fb218",
   "metadata": {},
   "source": [
    "- Write down all the steps followed for setting up the test."
   ]
  },
  {
   "cell_type": "code",
   "execution_count": 2,
   "id": "8438e016",
   "metadata": {},
   "outputs": [],
   "source": [
    "# 1. We compute the test statistic.\n",
    "# 2. We set a confidence level. Convention states 95% as acceptable.\n",
    "# 3. We compute the critical value of the corresponding distribution (We have to use the t-student distribution because we don't have the standard deviation of the population.)\n",
    "# 4. We compare the test statistic with the critical value."
   ]
  },
  {
   "cell_type": "markdown",
   "id": "b58b4c9b",
   "metadata": {},
   "source": [
    "- Calculate the test statistic by hand and also code it in Python. It should be 4.76190. What decision can you make based on this calculated value?"
   ]
  },
  {
   "cell_type": "code",
   "execution_count": 3,
   "id": "90fcf580",
   "metadata": {},
   "outputs": [],
   "source": [
    "import numpy as np\n",
    "import pandas as pd\n",
    "import scipy.stats as stats\n",
    "import math # importing the necessary libraries"
   ]
  },
  {
   "cell_type": "code",
   "execution_count": 4,
   "id": "70c0e1bc",
   "metadata": {},
   "outputs": [
    {
     "name": "stdout",
     "output_type": "stream",
     "text": [
      "4.761904761904759\n",
      "1.9842169515086827\n"
     ]
    }
   ],
   "source": [
    "mean_bp_pop = 120\n",
    "mean_bp_sample = 130.1\n",
    "stdev_sample = 21.21\n",
    "sample_size = 100\n",
    "degrees_fred = sample_size - 1\n",
    "\n",
    "z = (mean_bp_sample - mean_bp_pop)/(stdev_sample/math.sqrt(sample_size))\n",
    "print(z)\n",
    "\n",
    "critical_value = stats.t.ppf(1-(0.05/2), df=degrees_fred)\n",
    "print(critical_value)"
   ]
  },
  {
   "cell_type": "code",
   "execution_count": 5,
   "id": "7a4d68e7",
   "metadata": {},
   "outputs": [],
   "source": [
    "# Considering that the result for the sample is above the critical value, our null hypothesis can be rejected."
   ]
  },
  {
   "cell_type": "markdown",
   "id": "d6e844f7",
   "metadata": {},
   "source": [
    "### Optional\n",
    "\n",
    "In a packing plant, a machine packs cartons with jars. It is supposed that a new machine will pack faster on the average than the machine currently used. To test that hypothesis, the times it takes each machine to pack ten cartons are recorded. The results, in seconds, are shown in the tables in the file Data/machine.txt. Assume that there is sufficient evidence to conduct the t test, does the data provide sufficient evidence to show if one machine is better than the other.\n",
    "\n",
    "Hint: use two sample t-test\n",
    "\n",
    "t= (sample_mean(x1) - sample_mean(x2)) / sqrt(square(s1)/n1 + square(s2)/n2 )"
   ]
  },
  {
   "cell_type": "code",
   "execution_count": 6,
   "id": "11278465",
   "metadata": {},
   "outputs": [
    {
     "data": {
      "text/html": [
       "<div>\n",
       "<style scoped>\n",
       "    .dataframe tbody tr th:only-of-type {\n",
       "        vertical-align: middle;\n",
       "    }\n",
       "\n",
       "    .dataframe tbody tr th {\n",
       "        vertical-align: top;\n",
       "    }\n",
       "\n",
       "    .dataframe thead th {\n",
       "        text-align: right;\n",
       "    }\n",
       "</style>\n",
       "<table border=\"1\" class=\"dataframe\">\n",
       "  <thead>\n",
       "    <tr style=\"text-align: right;\">\n",
       "      <th></th>\n",
       "      <th>New Machine</th>\n",
       "      <th>Old Machine</th>\n",
       "    </tr>\n",
       "  </thead>\n",
       "  <tbody>\n",
       "    <tr>\n",
       "      <th>0</th>\n",
       "      <td>42.1</td>\n",
       "      <td>42.7</td>\n",
       "    </tr>\n",
       "    <tr>\n",
       "      <th>1</th>\n",
       "      <td>41.0</td>\n",
       "      <td>43.6</td>\n",
       "    </tr>\n",
       "    <tr>\n",
       "      <th>2</th>\n",
       "      <td>41.3</td>\n",
       "      <td>43.8</td>\n",
       "    </tr>\n",
       "    <tr>\n",
       "      <th>3</th>\n",
       "      <td>41.8</td>\n",
       "      <td>43.3</td>\n",
       "    </tr>\n",
       "    <tr>\n",
       "      <th>4</th>\n",
       "      <td>42.4</td>\n",
       "      <td>42.5</td>\n",
       "    </tr>\n",
       "    <tr>\n",
       "      <th>5</th>\n",
       "      <td>42.8</td>\n",
       "      <td>43.5</td>\n",
       "    </tr>\n",
       "    <tr>\n",
       "      <th>6</th>\n",
       "      <td>43.2</td>\n",
       "      <td>43.1</td>\n",
       "    </tr>\n",
       "    <tr>\n",
       "      <th>7</th>\n",
       "      <td>42.3</td>\n",
       "      <td>41.7</td>\n",
       "    </tr>\n",
       "    <tr>\n",
       "      <th>8</th>\n",
       "      <td>41.8</td>\n",
       "      <td>44.0</td>\n",
       "    </tr>\n",
       "    <tr>\n",
       "      <th>9</th>\n",
       "      <td>42.7</td>\n",
       "      <td>44.1</td>\n",
       "    </tr>\n",
       "  </tbody>\n",
       "</table>\n",
       "</div>"
      ],
      "text/plain": [
       "   New Machine  Old Machine\n",
       "0         42.1         42.7\n",
       "1         41.0         43.6\n",
       "2         41.3         43.8\n",
       "3         41.8         43.3\n",
       "4         42.4         42.5\n",
       "5         42.8         43.5\n",
       "6         43.2         43.1\n",
       "7         42.3         41.7\n",
       "8         41.8         44.0\n",
       "9         42.7         44.1"
      ]
     },
     "execution_count": 6,
     "metadata": {},
     "output_type": "execute_result"
    }
   ],
   "source": [
    "df = pd.read_csv(\"Data_Machine.txt\", sep = \"\\t\")\n",
    "\n",
    "df"
   ]
  },
  {
   "cell_type": "code",
   "execution_count": 7,
   "id": "4d9dc268",
   "metadata": {},
   "outputs": [
    {
     "name": "stdout",
     "output_type": "stream",
     "text": [
      "42.14\n",
      "0.6483826030978941\n"
     ]
    }
   ],
   "source": [
    "new = [df[\"New Machine\"]]\n",
    "new_mean = np.mean(new)\n",
    "new_stdev = np.std(new)\n",
    "\n",
    "print(new_mean)\n",
    "print(new_stdev)"
   ]
  },
  {
   "cell_type": "code",
   "execution_count": 8,
   "id": "31152273",
   "metadata": {},
   "outputs": [
    {
     "name": "stdout",
     "output_type": "stream",
     "text": [
      "43.230000000000004\n",
      "0.7114070564732956\n"
     ]
    }
   ],
   "source": [
    "old = [df[\"Old Machine\"]]\n",
    "old_mean = np.mean(old)\n",
    "old_stdev = np.std(old)\n",
    "\n",
    "print(old_mean)\n",
    "print(old_stdev)"
   ]
  },
  {
   "cell_type": "code",
   "execution_count": 9,
   "id": "d9ec3985",
   "metadata": {},
   "outputs": [
    {
     "name": "stdout",
     "output_type": "stream",
     "text": [
      "-3.5809955894645813\n"
     ]
    }
   ],
   "source": [
    "t= (new_mean - old_mean)/math.sqrt(math.pow(new_stdev,2)/10 + math.pow(old_stdev, 2)/10)\n",
    "print (t)"
   ]
  }
 ],
 "metadata": {
  "kernelspec": {
   "display_name": "Python 3 (ipykernel)",
   "language": "python",
   "name": "python3"
  },
  "language_info": {
   "codemirror_mode": {
    "name": "ipython",
    "version": 3
   },
   "file_extension": ".py",
   "mimetype": "text/x-python",
   "name": "python",
   "nbconvert_exporter": "python",
   "pygments_lexer": "ipython3",
   "version": "3.9.13"
  }
 },
 "nbformat": 4,
 "nbformat_minor": 5
}

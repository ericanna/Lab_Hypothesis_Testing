{
 "cells": [
  {
   "cell_type": "markdown",
   "id": "ed47ef29",
   "metadata": {},
   "source": [
    "# Lab | Hypothesis Testing\n",
    "\n",
    "#### Instructions:\n",
    "\n",
    "It is assumed that the mean systolic blood pressure is μ = 120 mm Hg. In the Honolulu Heart Study, a sample of n = 100 people had an average systolic blood pressure of 130.1 mm Hg with a standard deviation of 21.21 mm Hg. Is the group significantly different (with respect to systolic blood pressure!) from the regular population?\n",
    "\n",
    "- Set up the hypothesis test."
   ]
  },
  {
   "cell_type": "code",
   "execution_count": null,
   "id": "f9907cd4",
   "metadata": {},
   "outputs": [],
   "source": [
    "# What's the probability that the mean of the sample, stated by the Honolulu Heart Study (130.1 mm/Hg),\n",
    "# comes from a population with average blood pressure of 120 mm/Hg?\n",
    "\n",
    "# The Null hypothesis (H0) here is: mean_blood_pressure(population) = 120 mm/Hg.\n",
    "# The Alternative hypothesis (HA) is: mean_blood_pressure(sample) > 120 mm/Hg.\n",
    "# We have a One tailed test."
   ]
  },
  {
   "cell_type": "markdown",
   "id": "fb3660ae",
   "metadata": {},
   "source": [
    "- Write down all the steps followed for setting up the test."
   ]
  },
  {
   "cell_type": "code",
   "execution_count": 10,
   "id": "9e3c4006",
   "metadata": {},
   "outputs": [],
   "source": [
    "# 1. We compute the test statistic.\n",
    "# 2. We set a confidence level. Convention states 95% as acceptable.\n",
    "# 3. We compute the critical value of the corresponding distribution (We have to use the t-student distribution because we don't have the standard deviation of the population.)\n",
    "# 4. We compare the test statistic with the critical value."
   ]
  },
  {
   "cell_type": "markdown",
   "id": "b76cf304",
   "metadata": {},
   "source": [
    "- Calculate the test statistic by hand and also code it in Python. It should be 4.76190. What decision can you make based on this calculated value?"
   ]
  },
  {
   "cell_type": "code",
   "execution_count": 6,
   "id": "7e6b1bed",
   "metadata": {},
   "outputs": [],
   "source": [
    "import numpy as np\n",
    "import pandas as pd\n",
    "import scipy.stats as stats\n",
    "import math # importing the necessary libraries"
   ]
  },
  {
   "cell_type": "code",
   "execution_count": 9,
   "id": "46b1156b",
   "metadata": {},
   "outputs": [
    {
     "name": "stdout",
     "output_type": "stream",
     "text": [
      "4.761904761904759\n",
      "1.6603911559963895\n"
     ]
    }
   ],
   "source": [
    "mean_bp_pop = 120\n",
    "mean_bp_sample = 130.1\n",
    "stdev_sample = 21.21\n",
    "sample_size = 100\n",
    "degrees_fred = sample_size - 1\n",
    "\n",
    "z = (mean_bp_sample - mean_bp_pop)/(stdev_sample/math.sqrt(sample_size))\n",
    "print(z)\n",
    "\n",
    "critical_value = stats.t.ppf(0.95, df=degrees_fred)\n",
    "print(critical_value)"
   ]
  },
  {
   "cell_type": "code",
   "execution_count": 11,
   "id": "48e79d07",
   "metadata": {},
   "outputs": [],
   "source": [
    "# Considering that the result for the sample is above the critical value, our null hypothesis can be rejected."
   ]
  },
  {
   "cell_type": "markdown",
   "id": "34c40c7d",
   "metadata": {},
   "source": [
    "### Optional\n",
    "\n",
    "In a packing plant, a machine packs cartons with jars. It is supposed that a new machine will pack faster on the average than the machine currently used. To test that hypothesis, the times it takes each machine to pack ten cartons are recorded. The results, in seconds, are shown in the tables in the file Data/machine.txt. Assume that there is sufficient evidence to conduct the t test, does the data provide sufficient evidence to show if one machine is better than the other.\n",
    "\n",
    "Hint: use two sample t-test\n",
    "\n",
    "t= (sample_mean(x1) - sample_mean(x2)) / sqrt(square(s1)/n1 + square(s2)/n2 )"
   ]
  },
  {
   "cell_type": "code",
   "execution_count": 12,
   "id": "c016a14a",
   "metadata": {},
   "outputs": [
    {
     "ename": "SyntaxError",
     "evalue": "invalid character '“' (U+201C) (1867290410.py, line 1)",
     "output_type": "error",
     "traceback": [
      "\u001b[0;36m  File \u001b[0;32m\"/var/folders/0l/jk10l8211rd4cr70rll9kzh80000gp/T/ipykernel_2850/1867290410.py\"\u001b[0;36m, line \u001b[0;32m1\u001b[0m\n\u001b[0;31m    df = pd.read_csv(“Data/machine.txt”, sep = \"\\t”)\u001b[0m\n\u001b[0m                     ^\u001b[0m\n\u001b[0;31mSyntaxError\u001b[0m\u001b[0;31m:\u001b[0m invalid character '“' (U+201C)\n"
     ]
    }
   ],
   "source": [
    "df = pd.read_csv(“Data/machine.txt”, sep = \"\\t”)\n"
   ]
  },
  {
   "cell_type": "code",
   "execution_count": null,
   "id": "f5fd9942",
   "metadata": {},
   "outputs": [],
   "source": []
  }
 ],
 "metadata": {
  "kernelspec": {
   "display_name": "Python 3 (ipykernel)",
   "language": "python",
   "name": "python3"
  },
  "language_info": {
   "codemirror_mode": {
    "name": "ipython",
    "version": 3
   },
   "file_extension": ".py",
   "mimetype": "text/x-python",
   "name": "python",
   "nbconvert_exporter": "python",
   "pygments_lexer": "ipython3",
   "version": "3.9.13"
  }
 },
 "nbformat": 4,
 "nbformat_minor": 5
}
